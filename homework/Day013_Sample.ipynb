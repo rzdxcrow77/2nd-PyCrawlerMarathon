{
 "cells": [
  {
   "cell_type": "markdown",
   "metadata": {},
   "source": [
    "# PTT 網路爬蟲實作練習\n",
    "\n",
    "\n",
    "* 能夠利用 Request + BeatifulSour 撰寫爬蟲，並存放到合適的資料結構\n"
   ]
  },
  {
   "cell_type": "markdown",
   "metadata": {},
   "source": [
    "## PTT 網頁爬蟲"
   ]
  },
  {
   "cell_type": "code",
   "execution_count": 9,
   "metadata": {},
   "outputs": [],
   "source": [
    "import requests\n",
    "from bs4 import BeautifulSoup\n",
    "\n",
    "url = 'https://www.ptt.cc/bbs/NBA/index.html'\n",
    "r = requests.get(url)\n",
    "\n",
    "soup = BeautifulSoup(r.text, \"html5lib\")\n",
    "\n",
    "for d in soup.find_all(class_=\"title\"):\n",
    "    try:\n",
    "        r = BeautifulSoup(requests.get('https://www.ptt.cc'+d.find('a')['href']).text, \"html5lib\")\n",
    "        l=r.find_all(class_='article-meta-value')\n",
    "        l=l[0,2,3]\n",
    "        for rr in l:\n",
    "            print(rr.text)\n",
    "    except:\n",
    "        continue\n"
   ]
  },
  {
   "cell_type": "markdown",
   "metadata": {},
   "source": [
    "## 作業目標\n",
    "\n",
    "根據範例 ，完成以下問題：\n",
    "\n",
    "* ① 印出最新文章的「作者」「標題」「時間」\n",
    "* ② 印出第一頁所有文章的「作者」「標題」「時間」\n",
    "* ③ 試著爬爬看其他版的文章\n"
   ]
  },
  {
   "cell_type": "code",
   "execution_count": 2,
   "metadata": {},
   "outputs": [
    {
     "data": {
      "text/plain": [
       "\"\\n\\t\\t\\n\\t\\t\\n\\n\\n\\nFw: [請假] NBA板 - 看板 NBA - 批踢踢實業坊\\n\\n\\n\\n\\n\\n\\n\\n\\n\\n\\n\\n\\n\\n\\n\\n\\n\\n\\t\\n    \\n\\t\\t\\n\\n\\t\\n\\t\\t批踢踢實業坊\\n\\t\\t›\\n\\t\\t看板 NBA\\n\\t\\t關於我們\\n\\t\\t聯絡資訊\\n\\t\\n\\n\\n\\t\\n\\t\\t返回看板\\n\\t\\t\\n\\t\\n\\n\\n    作者Vedan (味丹)看板NBA標題Fw: [請假] NBA板時間Sun Mar 15 21:15:33 2020\\n※ [本文轉錄自 Sportcenter 看板 #1URYex73 ]\\n\\n作者: Vedan (味丹) 看板: Sportcenter\\n標題: [請假] NBA板\\n時間: Sun Mar 15 21:14:33 2020\\n\\n\\n看板:NBA\\n\\nID:Vedan\\n\\n期間:2020/03/16 ~ 2020/03/20\\n\\n事由:\\n到高雄幾天處理賣房子的事情，暫定這時間回來。\\n很對不起板友，回來後再開情報、花邊分類板規投票，感謝。\\n-----\\nSent from JPTT on my iPhone\\n\\n--\\n※ 發信站: 批踢踢實業坊(ptt.cc), 來自: 1.160.149.47 (臺灣)\\n※ 文章網址: https://www.ptt.cc/bbs/Sportcenter/M.1584278075.A.1C3.html\\n\\n※ 發信站: 批踢踢實業坊(ptt.cc)\\n※ 轉錄者: Vedan (1.169.153.6 臺灣), 03/15/2020 21:15:33\\n推 Myosotis    : 辛苦了 03/15 21:24\\n推 chenming867 : 推 03/15 21:28\\n推 ted010233   : 推 03/15 21:35\\n推 Bainite     : 辛苦了 03/15 21:35\\n推 accjm2440   : 03/15 21:37\\n推 cross980115 : 辛苦了 03/15 21:40\\n推 mhkt        : 您辛苦了 <(￣︶￣)/ 03/15 21:42\\n推 ericf129    : 辛苦嚕 03/15 21:42\\n推 google60411 : 感謝味丹 辛苦 03/15 21:45\\n推 JerroLi     : 味丹大大辛苦了~ 03/15 21:45\\n推 Kingantonio : 辛苦了 03/15 21:46\\n推 yankslakers : 版主好辛苦 顧版顧到要賣房子 鞠躬盡瘁(誤 03/15 21:47\\n推 AtDe        : 辛苦了~~小心帶口罩,勤洗手 03/15 21:50\\n推 XperiaZ6C   : 搶到涼亭了嗎 03/15 21:50\\n→ Vedan       : 是本來就陸續在賣的啦XD 03/15 21:51\\n推 dwiee       : 不會 生活比較重要 03/15 21:51\\n推 lowl99      : 還好最近沒比賽，可以好好請假 03/15 21:52\\n推 zombierick  : 辛苦了。房子賣了請所有版友吃雞排            (喂 03/15 21:53\\n推 jiahanchen  : 是說最近也沒比賽啦，安心請假吧~ 03/15 21:54\\n推 uglyfinger  : 爸爸辛苦了 03/15 21:55\\n推 JerrieRip   : 神版主辛苦了 03/15 21:57\\n推 g3322023    : 味丹大辛苦了 03/15 22:02\\n推 Luismth     : 辛苦了 03/15 22:07\\n推 ptt821105   : 辛苦了 小心注意安全~~~ 03/15 22:08\\n推 ganhua      : 辛苦了~~ 03/15 22:14\\n推 joey0207    : 辛苦板主了！ 03/15 22:16\\n推 NSYSUheng   : 版主辛苦了 03/15 22:19\\n推 no321       : 辛苦了 03/15 22:20\\n推 yeustream   : 辛苦了 03/15 22:23\\n推 lmf770410   : 辛苦了 03/15 22:27\\n推 PENNYsafe   : 現在沒什麼事，剛好讓自己休息一下 03/15 22:29\\n推 spider8866  : 分喔 03/15 22:37\\n推 ThunderLord : 版主辛苦了! 03/15 22:37\\n推 kuiyy       : 辛苦了 現實生活比較重要 03/15 22:41\\n推 Joyeeee     : 辛苦啦 03/15 22:55\\n推 providence  : 推  反正最近應該不會有太大的事了 03/15 22:59\\n→ providence  :  味丹先專心處理自己的事吧 03/15 22:59\\n推 okichan     : 天啊 賣房顧版 03/15 23:00\\n推 ralfeistein : 辛苦了 03/15 23:04\\n推 wpd         : 人生勝利組 03/15 23:19\\n推 wc4eva      : 辛苦了～ 03/15 23:43\\n推 SwissMiniGun: 版主辛苦了~ 03/15 23:49\\n→ tomlee1130  : 辛苦啦 03/16 00:11\\n推 igoati60153 : 推 板主盡責 辛苦了 03/16 00:46\\n→ wesley723386: 辛苦了 03/16 01:12\\n推 jackwula9211: 味丹好好休息一下，請假不要又偷跑回來管板啊 03/16 01:27\\n→ mvpdirk712  : 身體要顧好啦！ 03/16 01:30\\n推 circleli    : 辛苦了 03/16 01:37\\n推 Kenshin0707 : 祝味丹大一路順風 03/16 02:05\\n推 parisdog    : 當板主當到要賣房子 窩滴媽呀 03/16 02:26\\n噓 mirac1e     : 不需要跟大家交代你要做什麼 那是你的事情 03/16 04:58\\n→ mirac1e     : 你不需要大家同意才能去做 03/16 04:59\\n→ mirac1e     : 也不需要跟大家道歉 處理自己事情哪裡對不起版友 03/16 05:01\\n→ edwinrw     : 辛苦了 03/16 07:19\\n推 jas1123kimo : miracle，有責任心的人不會這樣想 03/16 07:47\\n推 chang860708 : 賣房當版主QQ 03/16 08:11\\n推 starchiang  : 需不需要講，看個人。但也不需要噓才是 03/16 08:15\\n推 CW4         : 辛苦了 保重 03/16 09:11\\n→ richard730  : 某樓在激動什麼? XDD 版主是大家選的... 03/16 10:11\\n推 haoche891208: 辛苦了～ 03/16 10:39\\n推 stja        : 辛苦了 03/16 10:39\\n推 LiamMcMorrow: 辛苦了！ 03/16 10:39\\n推 dargon01r   : 辛苦味丹大大 03/16 11:01\\n推 zahsuan8731 : 辛苦推 03/16 11:03\\n推 ctw01       : 辛苦了 03/16 11:49\\n推 Azabulu     : 請個假口氣不要這麼卑微啦 又沒付你薪水 這樣我們會 03/16 12:18\\n→ Azabulu     : 不好意思 03/16 12:18\\n推 wefg        : 辛苦了 03/16 12:58\\n推 IamJJ       : 辛苦了 03/16 14:50\\n推 q16941153   : 辛苦了 03/16 15:47\\n推 yust        : 版主辛苦了！ 03/16 20:10\\n噓 Ten6666     : 紅明顯 沒啥好對不起的 03/16 20:57\\n推 success78   : M大講得是對的，只是刁民太多 03/17 12:11\\n推 tjbulls     : 辛苦了  目前沒球賽應該還好 03/17 17:05\\n推 eno03       : 高雄發大財! 03/17 22:26\\n→ Vedan       : 我中午是跟人借電腦刪文的，別寄檢舉信給我唷，感恩 03/18 17:02\\n\\n    \\n    \\n    \\n\\n    \\n\\n\\n\\t\\t\\n\\n\\n  (function(i,s,o,g,r,a,m){i['GoogleAnalyticsObject']=r;i[r]=i[r]||function(){\\n  (i[r].q=i[r].q||[]).push(arguments)},i[r].l=1*new Date();a=s.createElement(o),\\n  m=s.getElementsByTagName(o)[0];a.async=1;a.src=g;m.parentNode.insertBefore(a,m)\\n  })(window,document,'script','https://www.google-analytics.com/analytics.js','ga');\\n\\n  ga('create', 'UA-32365737-1', {\\n    cookieDomain: 'ptt.cc',\\n    legacyCookieDomain: 'ptt.cc'\\n  });\\n  ga('send', 'pageview');\\n\\n\\n\\n\\t\\t\\n\\n\\n\\n    \\n\\n\""
      ]
     },
     "execution_count": 2,
     "metadata": {},
     "output_type": "execute_result"
    }
   ],
   "source": [
    "r.text"
   ]
  }
 ],
 "metadata": {
  "kernelspec": {
   "display_name": "Python 3",
   "language": "python",
   "name": "python3"
  },
  "language_info": {
   "codemirror_mode": {
    "name": "ipython",
    "version": 3
   },
   "file_extension": ".py",
   "mimetype": "text/x-python",
   "name": "python",
   "nbconvert_exporter": "python",
   "pygments_lexer": "ipython3",
   "version": "3.7.6"
  }
 },
 "nbformat": 4,
 "nbformat_minor": 2
}
