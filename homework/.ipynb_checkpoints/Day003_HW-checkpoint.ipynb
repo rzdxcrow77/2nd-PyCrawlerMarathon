{
 "cells": [
  {
   "cell_type": "markdown",
   "metadata": {},
   "source": [
    "# Python 下載XML檔案與解析\n",
    "\n",
    "\n",
    "* 了解 xml 檔案格式與內容\n",
    "* 能夠利用套件存取 xml 格式的檔案\n"
   ]
  },
  {
   "cell_type": "markdown",
   "metadata": {},
   "source": [
    "## 作業目標\n",
    "\n",
    "* 比較一下範例檔案中的「File I/O」與「xmltodict」讀出來的內容有什麼差異\n",
    "\n",
    "* 根據範例檔案的結果：\n",
    "    1. 請問高雄市有多少地區有溫度資料？\n",
    "    2. 請取出每一個地區所記錄的第一個時間點跟溫度\n",
    "    3. 請取出第一個地區所記錄的每一個時間點跟溫度"
   ]
  },
  {
   "cell_type": "markdown",
   "metadata": {},
   "source": [
    "### 比較一下範例檔案中的「File I/O」與「xmltodict」讀出來的內容有什麼差異\n"
   ]
  },
  {
   "cell_type": "code",
   "execution_count": 1,
   "metadata": {},
   "outputs": [
    {
     "data": {
      "text/plain": [
       "'\\nNo tags, only get values\\n'"
      ]
     },
     "execution_count": 1,
     "metadata": {},
     "output_type": "execute_result"
    }
   ],
   "source": [
    "'''\n",
    "No tags, only get values\n",
    "'''"
   ]
  },
  {
   "cell_type": "markdown",
   "metadata": {},
   "source": [
    "### 根據範例檔案的結果：\n",
    "\n",
    "1. 請問高雄市有多少地區有溫度資料？\n",
    "2. 請取出每一個地區所記錄的第一個時間點跟溫度\n",
    "3. 請取出第一個地區所記錄的每一個時間點跟溫度"
   ]
  },
  {
   "cell_type": "code",
   "execution_count": 20,
   "metadata": {},
   "outputs": [
    {
     "name": "stdout",
     "output_type": "stream",
     "text": [
      "38\n"
     ]
    }
   ],
   "source": [
    "# 1. 請問高雄市有多少地區有溫度資料？\n",
    "\n",
    "fh = open(\".\\\\data\\\\64_72hr_CH.xml\", \"r\",encoding='utf-8-sig')\n",
    "xml = fh.read()\n",
    "fh.close()\n",
    "\n",
    "ct=0\n",
    "import xmltodict\n",
    "d = dict(xmltodict.parse(xml))\n",
    "D = d['cwbopendata']['dataset']['locations']['location']\n",
    "for drow in D:\n",
    "    for wrow in drow['weatherElement']:\n",
    "        if wrow['elementName']=='T':\n",
    "            ct+=1\n",
    "print(ct)"
   ]
  },
  {
   "cell_type": "code",
   "execution_count": 23,
   "metadata": {},
   "outputs": [
    {
     "name": "stdout",
     "output_type": "stream",
     "text": [
      "2019-06-28T12:00:00+08:00, 33\n",
      "2019-06-28T12:00:00+08:00, 33\n",
      "2019-06-28T12:00:00+08:00, 33\n",
      "2019-06-28T12:00:00+08:00, 34\n",
      "2019-06-28T12:00:00+08:00, 32\n",
      "2019-06-28T12:00:00+08:00, 33\n",
      "2019-06-28T12:00:00+08:00, 33\n",
      "2019-06-28T12:00:00+08:00, 33\n",
      "2019-06-28T12:00:00+08:00, 33\n",
      "2019-06-28T12:00:00+08:00, 32\n",
      "2019-06-28T12:00:00+08:00, 33\n",
      "2019-06-28T12:00:00+08:00, 34\n",
      "2019-06-28T12:00:00+08:00, 33\n",
      "2019-06-28T12:00:00+08:00, 34\n",
      "2019-06-28T12:00:00+08:00, 34\n",
      "2019-06-28T12:00:00+08:00, 34\n",
      "2019-06-28T12:00:00+08:00, 33\n",
      "2019-06-28T12:00:00+08:00, 34\n",
      "2019-06-28T12:00:00+08:00, 34\n",
      "2019-06-28T12:00:00+08:00, 35\n",
      "2019-06-28T12:00:00+08:00, 34\n",
      "2019-06-28T12:00:00+08:00, 34\n",
      "2019-06-28T12:00:00+08:00, 34\n",
      "2019-06-28T12:00:00+08:00, 33\n",
      "2019-06-28T12:00:00+08:00, 33\n",
      "2019-06-28T12:00:00+08:00, 33\n",
      "2019-06-28T12:00:00+08:00, 32\n",
      "2019-06-28T12:00:00+08:00, 32\n",
      "2019-06-28T12:00:00+08:00, 32\n",
      "2019-06-28T12:00:00+08:00, 34\n",
      "2019-06-28T12:00:00+08:00, 34\n",
      "2019-06-28T12:00:00+08:00, 34\n",
      "2019-06-28T12:00:00+08:00, 33\n",
      "2019-06-28T12:00:00+08:00, 36\n",
      "2019-06-28T12:00:00+08:00, 34\n",
      "2019-06-28T12:00:00+08:00, 34\n",
      "2019-06-28T12:00:00+08:00, 31\n",
      "2019-06-28T12:00:00+08:00, 29\n"
     ]
    }
   ],
   "source": [
    "# 2. 請取出每一個地區所記錄的第一個時間點跟溫度\n",
    "fh = open(\".\\\\data\\\\64_72hr_CH.xml\", \"r\",encoding='utf-8-sig')\n",
    "xml = fh.read()\n",
    "fh.close()\n",
    "\n",
    "import xmltodict\n",
    "d = dict(xmltodict.parse(xml))\n",
    "D = d['cwbopendata']['dataset']['locations']['location']\n",
    "for drow in D:\n",
    "    for wrow in drow['weatherElement']:\n",
    "        if wrow['elementName']=='T':\n",
    "            print(wrow['time'][0]['dataTime'], end=', ')\n",
    "            print(wrow['time'][0]['elementValue']['value'])\n"
   ]
  },
  {
   "cell_type": "code",
   "execution_count": 25,
   "metadata": {},
   "outputs": [
    {
     "name": "stdout",
     "output_type": "stream",
     "text": [
      "2019-06-28T12:00:00+08:00, 33\n",
      "2019-06-28T15:00:00+08:00, 33\n",
      "2019-06-28T18:00:00+08:00, 32\n",
      "2019-06-28T21:00:00+08:00, 30\n",
      "2019-06-29T00:00:00+08:00, 30\n",
      "2019-06-29T03:00:00+08:00, 29\n",
      "2019-06-29T06:00:00+08:00, 28\n",
      "2019-06-29T09:00:00+08:00, 31\n",
      "2019-06-29T12:00:00+08:00, 32\n",
      "2019-06-29T15:00:00+08:00, 32\n",
      "2019-06-29T18:00:00+08:00, 31\n",
      "2019-06-29T21:00:00+08:00, 30\n",
      "2019-06-30T00:00:00+08:00, 29\n",
      "2019-06-30T03:00:00+08:00, 28\n",
      "2019-06-30T06:00:00+08:00, 28\n",
      "2019-06-30T09:00:00+08:00, 31\n",
      "2019-06-30T12:00:00+08:00, 32\n",
      "2019-06-30T15:00:00+08:00, 32\n",
      "2019-06-30T18:00:00+08:00, 31\n",
      "2019-06-30T21:00:00+08:00, 30\n",
      "2019-07-01T00:00:00+08:00, 29\n",
      "2019-07-01T03:00:00+08:00, 29\n",
      "2019-07-01T06:00:00+08:00, 28\n",
      "2019-07-01T09:00:00+08:00, 31\n"
     ]
    }
   ],
   "source": [
    "# 3. 請取出第一個地區所記錄的每一個時間點跟溫度\n",
    "fh = open(\".\\\\data\\\\64_72hr_CH.xml\", \"r\",encoding='utf-8-sig')\n",
    "xml = fh.read()\n",
    "fh.close()\n",
    "\n",
    "import xmltodict\n",
    "d = dict(xmltodict.parse(xml))\n",
    "D = d['cwbopendata']['dataset']['locations']['location'][0]\n",
    "for wrow in D['weatherElement']:\n",
    "    if wrow['elementName']=='T':\n",
    "        for trow in (wrow['time']):\n",
    "            print(trow['dataTime'], end=', ')\n",
    "            print(trow['elementValue']['value'])\n"
   ]
  },
  {
   "cell_type": "code",
   "execution_count": null,
   "metadata": {},
   "outputs": [],
   "source": []
  }
 ],
 "metadata": {
  "kernelspec": {
   "display_name": "Python 3",
   "language": "python",
   "name": "python3"
  },
  "language_info": {
   "codemirror_mode": {
    "name": "ipython",
    "version": 3
   },
   "file_extension": ".py",
   "mimetype": "text/x-python",
   "name": "python",
   "nbconvert_exporter": "python",
   "pygments_lexer": "ipython3",
   "version": "3.7.6"
  }
 },
 "nbformat": 4,
 "nbformat_minor": 2
}
