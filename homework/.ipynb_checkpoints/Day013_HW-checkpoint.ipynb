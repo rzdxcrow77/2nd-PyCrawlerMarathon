{
 "cells": [
  {
   "cell_type": "markdown",
   "metadata": {},
   "source": [
    "# PTT 網路爬蟲實作練習\n",
    "\n",
    "\n",
    "* 能夠利用 Request + BeatifulSour 撰寫爬蟲，並存放到合適的資料結構\n"
   ]
  },
  {
   "cell_type": "markdown",
   "metadata": {},
   "source": [
    "## 作業目標\n",
    "\n",
    "根據範例 ，完成以下問題：\n",
    "\n",
    "* ① 印出最新文章的「作者」「標題」「時間」\n",
    "* ② 印出第一頁所有文章的「作者」「標題」「時間」\n"
   ]
  },
  {
   "cell_type": "markdown",
   "metadata": {},
   "source": [
    "### ① 印出最新文章的「作者」「標題」「時間」"
   ]
  },
  {
   "cell_type": "code",
   "execution_count": 14,
   "metadata": {},
   "outputs": [
    {
     "name": "stdout",
     "output_type": "stream",
     "text": [
      "title:[新聞] 評生涯最難防守球員 韋德選擇這三人\n",
      "author:nicholas21 (逝去之後)\n",
      "time:Thu Mar 19 20:56:19 2020\n",
      "title:[專欄] 新冠肺炎衝擊 考驗爵士雙重奏化學效應\n",
      "author:hvariables (Speculative Male)\n",
      "time:Thu Mar 19 23:17:27 2020\n",
      "title:Re: [花邊] 林書豪跟Ekpe Udoh返回中國\n",
      "author:kuluma (墨駒)\n",
      "time:Thu Mar 19 23:55:24 2020\n",
      "title:[新聞] 諾亞遭投訴擾鄰 佔公共健身房作私人訓練\n",
      "author:Gotham (萬惡之城)\n",
      "time:Thu Mar 19 23:55:29 2020\n",
      "title:[公告] 版主上任相關事項\n",
      "author:qazwsx879345 (Rajon Rondo)\n",
      "time:Fri Oct 25 10:44:03 2019\n",
      "title:[情報] SEASON Schedule 賽程 March 19–20\n",
      "author:Acetoxy (阿斯)\n",
      "time:Mon Mar  2 01:19:40 2020\n",
      "title:[公告] 第一次被退文，可在三天後刪除退文\n",
      "author:Vedan (味丹)\n",
      "time:Mon Mar  9 11:44:26 2020\n",
      "title:Fw: [請假] NBA板\n",
      "author:Vedan (味丹)\n",
      "time:Sun Mar 15 21:15:33 2020\n"
     ]
    }
   ],
   "source": [
    "import requests\n",
    "from bs4 import BeautifulSoup\n",
    "\n",
    "url = 'https://www.ptt.cc/bbs/NBA/index.html'\n",
    "r = requests.get(url)\n",
    "\n",
    "soup = BeautifulSoup(r.text, \"html5lib\")\n",
    "\n",
    "for d in soup.find_all(class_=\"title\"):\n",
    "    try:\n",
    "        r = BeautifulSoup(requests.get('https://www.ptt.cc'+d.find('a')['href']).text, \"html5lib\")\n",
    "        l=r.find_all(class_='article-meta-value')\n",
    "        l=[l[i] for i in (0,2,3)]\n",
    "        print(\"title:{}\".format(l[1].text))\n",
    "        print(\"author:{}\".format(l[0].text))\n",
    "        print(\"time:{}\".format(l[2].text))\n",
    "    except:\n",
    "        continue\n"
   ]
  },
  {
   "cell_type": "markdown",
   "metadata": {},
   "source": [
    "### ② 印出第一頁所有文章的「作者」「標題」「時間」"
   ]
  },
  {
   "cell_type": "code",
   "execution_count": 15,
   "metadata": {},
   "outputs": [
    {
     "name": "stdout",
     "output_type": "stream",
     "text": [
      "title:[轉錄]Lyotard 對於太陽板討論串的結論\n",
      "author:Price (Price)\n",
      "time:Sun May 16 01:54:33 2004\n",
      "title:[公告] 請停止一切關於本次活動的發言\n",
      "author:Price (Price)\n",
      "time:Mon May 24 00:43:00 2004\n",
      "title:[轉錄]跟之前那篇比起來 我覺得這篇也應該轉過來\n",
      "author:Frankaze (神采風華)\n",
      "time:Tue Jun  8 01:16:45 2004\n",
      "title:[轉錄]再轉一篇好文來\n",
      "author:Frankaze (神采風華)\n",
      "time:Tue Jun  8 09:02:23 2004\n",
      "title:[轉錄][情報] 夏洛特山貓系列\n",
      "author:Price (Price)\n",
      "time:Thu Jun 10 00:39:35 2004\n",
      "title:[轉錄]Re: [心得] 真是受不了糗爺....\n",
      "author:Price (Price)\n",
      "time:Thu Jun 10 00:51:35 2004\n",
      "title:[轉錄]總冠軍賽NO.2觀後感\n",
      "author:Price (Price)\n",
      "time:Thu Jun 10 12:05:07 2004\n",
      "title:[心得] Rasheed Wallace\n",
      "author:AmuroNamie (原來太嗨真的會失眠^___^)\n",
      "time:Fri Jun 11 15:06:09 2004\n",
      "title:掌控球賽的男人\n",
      "author:toptree (  )\n",
      "time:Sat Jun 12 07:13:04 2004\n",
      "title:[閒聊] 說說2004季後賽名場面回顧\n",
      "author:skchang (3EB板開板囉！)\n",
      "time:Sat Jun 12 13:21:49 2004\n",
      "title:[心得] 其實說穿了 就是活塞的防守太可怕了\n",
      "author:shineup ()\n",
      "time:Sat Jun 12 13:12:47 2004\n",
      "title:Re: [閒聊] 說說2004季後賽名場面回顧\n",
      "author:cOvi (喵~)\n",
      "time:Sat Jun 12 16:43:07 2004\n",
      "title:Re: [閒聊] 說說2004季後賽名場面回顧\n",
      "author:ykshih (￼N￼Ns)\n",
      "time:Sat Jun 12 17:26:37 2004\n",
      "title:Re: [閒聊] 說說2004季後賽名場面回顧\n",
      "author:Frankaze (神采風華)\n",
      "time:Sat Jun 12 18:34:46 2004\n",
      "title:[轉錄]Re: 總冠軍賽NO.3觀後感\n",
      "author:Price (Price)\n",
      "time:Mon Jun 14 02:18:52 2004\n",
      "title:[轉錄]Re: 總冠軍賽NO.3觀後感\n",
      "author:Frankaze (神采風華)\n",
      "time:Mon Jun 14 02:34:33 2004\n",
      "title:Re: [轉錄]Re: 總冠軍賽NO.3觀後感\n",
      "author:star1 (第一次魔術表演不算成功)\n",
      "time:Mon Jun 14 07:16:30 2004\n",
      "title:Re: [轉錄]Re: 總冠軍賽NO.3觀後感\n",
      "author:coldspring (笑笑)\n",
      "time:Mon Jun 14 09:24:57 2004\n",
      "title:Re: Kobe is frustrated...\n",
      "author:airbear (地圖)\n",
      "time:Mon Jun 14 12:56:14 2004\n",
      "title:Re: [轉錄]Re: 總冠軍賽NO.3觀後感\n",
      "author:pennykidd (andre)\n",
      "time:Mon Jun 14 22:07:01 2004\n"
     ]
    }
   ],
   "source": [
    "import requests\n",
    "from bs4 import BeautifulSoup\n",
    "\n",
    "url = 'https://www.ptt.cc/bbs/NBA/index1.html'\n",
    "r = requests.get(url)\n",
    "\n",
    "soup = BeautifulSoup(r.text, \"html5lib\")\n",
    "\n",
    "for d in soup.find_all(class_=\"title\"):\n",
    "    try:\n",
    "        r = BeautifulSoup(requests.get('https://www.ptt.cc'+d.find('a')['href']).text, \"html5lib\")\n",
    "        l=r.find_all(class_='article-meta-value')\n",
    "        l=[l[i] for i in (0,2,3)]\n",
    "        print(\"title:{}\".format(l[1].text))\n",
    "        print(\"author:{}\".format(l[0].text))\n",
    "        print(\"time:{}\".format(l[2].text))\n",
    "    except:\n",
    "        continue\n"
   ]
  },
  {
   "cell_type": "markdown",
   "metadata": {},
   "source": [
    "### ③ 試著爬爬看其他版的文章"
   ]
  },
  {
   "cell_type": "code",
   "execution_count": 16,
   "metadata": {},
   "outputs": [
    {
     "name": "stdout",
     "output_type": "stream",
     "text": [
      "title:[情報] 肯德基/生活市集專屬優惠\n",
      "author:a8683312 (小麥)\n",
      "time:Thu Mar 19 17:54:32 2020\n",
      "title:[情報] 高雄月亮蝦餅生日當天免費\n",
      "author:milanster (米嵐斯特)\n",
      "time:Thu Mar 19 18:14:42 2020\n",
      "title:[情報] 王國保衛戰 Kingdom Rush系列 限時免費\n",
      "author:LINAKI (提案詢問請勿直接給序號)\n",
      "time:Thu Mar 19 18:46:04 2020\n",
      "title:[情報] adidas 腰包 下殺$399\n",
      "author:applegreen15 (lisa)\n",
      "time:Thu Mar 19 19:16:28 2020\n",
      "title:Re: [情報] AFTEE感謝祭全站結帳滿499現折100\n",
      "author:witch (巫婆)\n",
      "time:Thu Mar 19 19:51:43 2020\n",
      "title:[情報] 3/30～4/6阿皂屋奈米抗菌錠免費領取！\n",
      "author:t76927 (HUI)\n",
      "time:Thu Mar 19 20:35:05 2020\n",
      "title:[情報] 必勝客優惠券整理\n",
      "author:gmmrr18 (shark)\n",
      "time:Thu Mar 19 23:18:58 2020\n",
      "title:[情報] klook饗食平日兩人八折\n",
      "author:tonyshan (Iamyourfather)\n",
      "time:Thu Mar 19 23:49:59 2020\n",
      "title:[公告] 省錢板板規 2018.10.29\n",
      "author:kadasaki (Ｋ～)\n",
      "time:Mon Jun 11 18:15:16 2018\n",
      "title:[公告] 違規檢舉區\n",
      "author:medama ( )\n",
      "time:Thu Dec 19 22:54:37 2019\n",
      "title:[公告] 未滿1元之集點資訊 請集中在本篇推文\n",
      "author:medama ( )\n",
      "time:Sun Mar  8 02:17:25 2020\n"
     ]
    }
   ],
   "source": [
    "import requests\n",
    "from bs4 import BeautifulSoup\n",
    "\n",
    "url = 'https://www.ptt.cc/bbs/Lifeismoney/index.html'\n",
    "r = requests.get(url)\n",
    "\n",
    "soup = BeautifulSoup(r.text, \"html5lib\")\n",
    "\n",
    "for d in soup.find_all(class_=\"title\"):\n",
    "    try:\n",
    "        r = BeautifulSoup(requests.get('https://www.ptt.cc'+d.find('a')['href']).text, \"html5lib\")\n",
    "        l=r.find_all(class_='article-meta-value')\n",
    "        l=[l[i] for i in (0,2,3)]\n",
    "        print(\"title:{}\".format(l[1].text))\n",
    "        print(\"author:{}\".format(l[0].text))\n",
    "        print(\"time:{}\".format(l[2].text))\n",
    "    except:\n",
    "        continue\n"
   ]
  }
 ],
 "metadata": {
  "kernelspec": {
   "display_name": "Python 3",
   "language": "python",
   "name": "python3"
  },
  "language_info": {
   "codemirror_mode": {
    "name": "ipython",
    "version": 3
   },
   "file_extension": ".py",
   "mimetype": "text/x-python",
   "name": "python",
   "nbconvert_exporter": "python",
   "pygments_lexer": "ipython3",
   "version": "3.7.6"
  }
 },
 "nbformat": 4,
 "nbformat_minor": 2
}
