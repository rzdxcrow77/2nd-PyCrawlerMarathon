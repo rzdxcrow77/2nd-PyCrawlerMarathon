{
 "cells": [
  {
   "cell_type": "markdown",
   "metadata": {},
   "source": [
    "# API 資料串接 - 以 Dcard API 實作範例\n",
    "\n",
    "* 了解 Dcard API 使用方式與回傳內容\n",
    "* 撰寫程式存取 API 且解析 JSON 格式資料\n"
   ]
  },
  {
   "cell_type": "markdown",
   "metadata": {},
   "source": [
    "## 作業目標\n",
    "\n",
    "* 請利用 API: https://www.dcard.tw/_api/forums/pet/posts?popular=true 回答下列問題：\n",
    "\n",
    "1. 這個 API 一次會回傳幾筆資料？每一筆資料包含哪些欄位？\n",
    "2. 取出每一筆資料的「標題」、「貼文時間」、「留言人數」、「按讚人數」\n",
    "3. 計算熱門/非熱門文章的「平均留言人數」與「平均按讚人數」"
   ]
  },
  {
   "cell_type": "code",
   "execution_count": 10,
   "metadata": {},
   "outputs": [
    {
     "name": "stdout",
     "output_type": "stream",
     "text": [
      "30\n"
     ]
    }
   ],
   "source": [
    "# 1. 這個 API 一次會回傳幾筆資料？每一筆資料包含哪些欄位？\n",
    "\n",
    "import requests\n",
    "r = requests.get('https://www.dcard.tw/_api/forums/pet/posts?popular=true')\n",
    "response = r.text\n",
    "\n",
    "import json\n",
    "data = json.loads(response)\n",
    "\n",
    "n=len(data)\n",
    "print(n)\n"
   ]
  },
  {
   "cell_type": "code",
   "execution_count": 12,
   "metadata": {},
   "outputs": [
    {
     "name": "stdout",
     "output_type": "stream",
     "text": [
      "請大家不要隨便養兔兔！ , 2020-03-15T08:50:39.336Z , 87 , 1025\n",
      "我爸的兄弟 , 2020-03-15T07:15:09.251Z , 9 , 915\n",
      "狗得了環狀病毒（文長） , 2020-03-15T11:50:11.895Z , 23 , 595\n",
      "啊～我是貓啦 , 2020-03-15T10:10:55.945Z , 9 , 438\n",
      "天使 , 2020-03-15T09:42:18.812Z , 8 , 167\n",
      "購買跟領養 , 2020-03-15T07:37:42.641Z , 4 , 71\n",
      "感情好到讓人羨慕 , 2020-03-15T10:05:05.271Z , 3 , 40\n",
      "我以為我養的是法鬥 原來是隻豬啊 , 2020-03-16T02:54:35.422Z , 1 , 39\n",
      "沒錢別養寵物 , 2020-03-15T09:05:46.214Z , 6 , 28\n",
      "失去貓咪後失去重心 , 2020-03-15T03:16:12.236Z , 9 , 27\n",
      "我家的特大號壁虎 , 2020-03-16T05:38:57.393Z , 2 , 26\n",
      "守宮其實很可愛！ , 2020-03-15T18:14:56.035Z , 13 , 20\n",
      "（圖多）最近從朋友那領養了一隻貓，正式晉升為貓奴才了！每天都會被他笑死 , 2020-03-15T14:44:32.318Z , 6 , 18\n",
      "我是不是養錯龜了..... , 2020-03-15T10:07:07.784Z , 6 , 18\n",
      "犬種介紹特輯13 ~ 小姑娘 可卡犬 , 2020-03-15T11:41:11.811Z , 1 , 16\n",
      "很憤怒的領養經驗😡 , 2020-03-16T05:21:26.083Z , 3 , 15\n",
      "我叫阿秋 真的很秋 , 2020-03-15T13:31:25.028Z , 3 , 14\n",
      "新成員 (圖多） , 2020-03-16T08:55:32.357Z , 20 , 12\n",
      "通緝金門大學ㄉ女同學的狗 , 2020-03-16T05:49:39.070Z , 4 , 12\n",
      "還有人養魚當寵物嗎 , 2020-03-15T11:19:08.961Z , 5 , 12\n",
      "舌頭給我收斂一點！ , 2020-03-16T07:34:21.277Z , 1 , 11\n",
      "外拍初體驗 , 2020-03-15T14:01:49.113Z , 0 , 11\n",
      "蒐集貓咪の各種睡姿 , 2020-03-15T09:28:45.855Z , 3 , 11\n",
      "彰化尋狗！彰師大附近！拜託大家幫幫忙了！ , 2020-03-16T04:32:38.699Z , 2 , 10\n",
      "挑軟柿子是吧？ , 2020-03-15T05:48:35.589Z , 0 , 9\n",
      "只有我覺得這樣很危險嗎⋯⋯ , 2020-03-15T16:02:59.175Z , 3 , 8\n",
      "協尋鸚鵡 , 2020-03-15T06:45:50.431Z , 0 , 8\n",
      "咪咪自己開水喝 , 2020-03-16T02:22:29.424Z , 0 , 7\n",
      "專業手機架 , 2020-03-15T14:42:03.115Z , 0 , 7\n",
      "轉：3/11在台三線的重機騎士麻煩進來看看 , 2020-03-15T05:47:43.117Z , 0 , 7\n"
     ]
    }
   ],
   "source": [
    "# 2. 取出每一筆資料的「標題」、「貼文時間」、「留言人數」、「按讚人數」\n",
    "\n",
    "for d in data:\n",
    "    print(\"{} , {} , {} , {}\".format(d['title'],d['createdAt'],d['commentCount'],d['likeCount']))\n",
    "    cct+=int(d['commentCount'])\n",
    "    lct+=int(d['likeCount'])"
   ]
  },
  {
   "cell_type": "code",
   "execution_count": 32,
   "metadata": {},
   "outputs": [
    {
     "name": "stdout",
     "output_type": "stream",
     "text": [
      "Popular: Comment:15.4 Like:239.8\n",
      "Non-Popular: Comment:  2.17 Like:4.50\n"
     ]
    }
   ],
   "source": [
    "# 3. 計算熱門/非熱門文章的「平均留言人數」與「平均按讚人數」\n",
    "\n",
    "r = requests.get('https://www.dcard.tw/_api/forums/pet/posts?popular=false')\n",
    "response = r.text\n",
    "data = json.loads(response)\n",
    "\n",
    "fcct=0\n",
    "flct=0\n",
    "fn=len(data)\n",
    "for d in data:\n",
    "    fcct+=int(d['commentCount'])\n",
    "    flct+=int(d['likeCount'])\n",
    "\n",
    "print(\"Popular: Comment:{} Like:{}\".format(cct/n,lct/n))\n",
    "print(\"Non-Popular: Comment:{:6.2f} Like:{:2.2f}\".format(fcct/fn,flct/fn))"
   ]
  },
  {
   "cell_type": "code",
   "execution_count": null,
   "metadata": {},
   "outputs": [],
   "source": []
  },
  {
   "cell_type": "code",
   "execution_count": null,
   "metadata": {},
   "outputs": [],
   "source": []
  }
 ],
 "metadata": {
  "kernelspec": {
   "display_name": "Python 3",
   "language": "python",
   "name": "python3"
  },
  "language_info": {
   "codemirror_mode": {
    "name": "ipython",
    "version": 3
   },
   "file_extension": ".py",
   "mimetype": "text/x-python",
   "name": "python",
   "nbconvert_exporter": "python",
   "pygments_lexer": "ipython3",
   "version": "3.7.6"
  }
 },
 "nbformat": 4,
 "nbformat_minor": 2
}
