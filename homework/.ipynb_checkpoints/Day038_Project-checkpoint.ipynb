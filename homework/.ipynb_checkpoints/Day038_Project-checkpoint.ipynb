{
 "cells": [
  {
   "cell_type": "code",
   "execution_count": 2,
   "metadata": {},
   "outputs": [],
   "source": [
    "from bs4 import BeautifulSoup\n",
    "import random\n",
    "import requests\n",
    "import _thread\n",
    "import time\n",
    "import pandas as pd\n",
    "import re\n"
   ]
  },
  {
   "cell_type": "code",
   "execution_count": 21,
   "metadata": {},
   "outputs": [],
   "source": [
    "url='https://www.ptt.cc/bbs/Gossiping/index.html'\n",
    "url_pre='https://www.ptt.cc'"
   ]
  },
  {
   "cell_type": "code",
   "execution_count": 49,
   "metadata": {},
   "outputs": [
    {
     "name": "stdout",
     "output_type": "stream",
     "text": [
      "['https://www.ptt.cc/bbs/Gossiping/index1.html', 'https://www.ptt.cc/bbs/Gossiping/index39182.html']\n",
      "['https://www.ptt.cc/bbs/Gossiping/M.1586879516.A.C10.html', 'https://www.ptt.cc/bbs/Gossiping/M.1586879522.A.7DC.html', 'https://www.ptt.cc/bbs/Gossiping/M.1586879522.A.58A.html', 'https://www.ptt.cc/bbs/Gossiping/M.1586879540.A.939.html', 'https://www.ptt.cc/bbs/Gossiping/M.1586879550.A.61E.html', 'https://www.ptt.cc/bbs/Gossiping/M.1586879608.A.772.html', 'https://www.ptt.cc/bbs/Gossiping/M.1586879715.A.86F.html', 'https://www.ptt.cc/bbs/Gossiping/M.1586879728.A.F93.html', 'https://www.ptt.cc/bbs/Gossiping/M.1586879781.A.AA4.html', 'https://www.ptt.cc/bbs/Gossiping/M.1586879810.A.0AD.html', 'https://www.ptt.cc/bbs/Gossiping/M.1586879818.A.215.html', 'https://www.ptt.cc/bbs/Gossiping/M.1586879833.A.7C3.html', 'https://www.ptt.cc/bbs/Gossiping/M.1586879865.A.4C5.html', 'https://www.ptt.cc/bbs/Gossiping/M.1586879904.A.2F3.html', 'https://www.ptt.cc/bbs/Gossiping/M.1586879914.A.FED.html', 'https://www.ptt.cc/bbs/Gossiping/M.1586879937.A.FAA.html', 'https://www.ptt.cc/bbs/Gossiping/M.1586879941.A.54D.html', 'https://www.ptt.cc/bbs/Gossiping/M.1586879946.A.E02.html', 'https://www.ptt.cc/bbs/Gossiping/M.1586879949.A.E02.html', 'https://www.ptt.cc/bbs/Gossiping/M.1586879950.A.7C9.html', 'https://www.ptt.cc/bbs/Gossiping/M.1584722568.A.473.html', 'https://www.ptt.cc/bbs/Gossiping/M.1586494282.A.C7E.html', 'https://www.ptt.cc/bbs/Gossiping/M.1586864827.A.F44.html', 'https://www.ptt.cc/bbs/Gossiping/M.1586874858.A.733.html', 'https://www.ptt.cc/bbs/Gossiping/M.1586326865.A.5D4.html']\n"
     ]
    }
   ],
   "source": [
    "res = requests.get(url,cookies={'over18': '1'})\n",
    "res.encoding='utf-8'\n",
    "soup = BeautifulSoup(res.text, \"html5lib\")\n",
    "hrefs=soup.find_all('a',href=re.compile(\".*/M\\..*\"))\n",
    "lastpagehref=soup.find('a',text=re.compile(\".*上頁.*\"))\n",
    "firstpagehref=soup.find('a',text=re.compile(\".*最舊.*\"))\n",
    "\n",
    "content_urls=list()\n",
    "index_urls=[url_pre+firstpagehref['href'],url_pre+lastpagehref['href']]\n",
    "\n",
    "for h in hrefs:\n",
    "    content_urls.append(url_pre + h['href'])\n",
    "\n",
    "print(index_urls)\n",
    "print(content_urls)\n"
   ]
  },
  {
   "cell_type": "code",
   "execution_count": null,
   "metadata": {},
   "outputs": [],
   "source": []
  },
  {
   "cell_type": "code",
   "execution_count": 5,
   "metadata": {},
   "outputs": [
    {
     "data": {
      "text/plain": [
       "'\\nstartTime = time.time()\\n\\nfor url in urls:\\n    _thread.start_new_thread( requests.get, (url, ) )\\n\\nfinishTime = time.time()\\nprint(finishTime,startTime)\\nprint(finishTime - startTime)\\n'"
      ]
     },
     "execution_count": 5,
     "metadata": {},
     "output_type": "execute_result"
    }
   ],
   "source": [
    "\"\"\"\n",
    "startTime = time.time()\n",
    "\n",
    "for url in urls:\n",
    "    _thread.start_new_thread( requests.get, (url, ) )\n",
    "\n",
    "finishTime = time.time()\n",
    "print(finishTime,startTime)\n",
    "print(finishTime - startTime)\n",
    "\n",
    "cookies = {\n",
    "    'logged_in': 'yes',\n",
    "    'user_session': '...'\n",
    "}\n",
    "\n",
    "r = requests.get('https://github.com/new', cookies=cookies,headers=headers)\n",
    "\n",
    "pd.DataFrame(d)\n",
    "\n",
    "movie_item = html.find_all(\"option\", attrs={'data-name':re.compile('.*')})\n",
    "\"\"\""
   ]
  }
 ],
 "metadata": {
  "kernelspec": {
   "display_name": "Python 3",
   "language": "python",
   "name": "python3"
  },
  "language_info": {
   "codemirror_mode": {
    "name": "ipython",
    "version": 3
   },
   "file_extension": ".py",
   "mimetype": "text/x-python",
   "name": "python",
   "nbconvert_exporter": "python",
   "pygments_lexer": "ipython3",
   "version": "3.7.6"
  }
 },
 "nbformat": 4,
 "nbformat_minor": 4
}
