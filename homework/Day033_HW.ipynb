{
 "cells": [
  {
   "cell_type": "markdown",
   "metadata": {},
   "source": [
    "# 反爬：登入授權模擬\n",
    "\n",
    "* 了解「登入權限機制」的反爬蟲機制\n",
    "* 「登入權限機制」反爬蟲的因應策略"
   ]
  },
  {
   "cell_type": "markdown",
   "metadata": {},
   "source": [
    "## 作業目標\n",
    "\n",
    "* 找一個需要登入的網站試試看，並說明思考流程\n",
    "（如果不知道要用哪個網站的話，可以試試看 https://github.com/new 網址，未登入時會被導向登入頁）\n",
    "\n"
   ]
  },
  {
   "cell_type": "code",
   "execution_count": 1,
   "metadata": {},
   "outputs": [],
   "source": [
    "import requests\n",
    "from bs4 import BeautifulSoup"
   ]
  },
  {
   "cell_type": "code",
   "execution_count": 4,
   "metadata": {},
   "outputs": [
    {
     "name": "stderr",
     "output_type": "stream",
     "text": [
      "C:\\ProgramData\\Anaconda3\\lib\\site-packages\\urllib3\\connectionpool.py:1004: InsecureRequestWarning: Unverified HTTPS request is being made to host 'github.com'. Adding certificate verification is strongly advised. See: https://urllib3.readthedocs.io/en/latest/advanced-usage.html#ssl-warnings\n",
      "  InsecureRequestWarning,\n",
      "C:\\ProgramData\\Anaconda3\\lib\\site-packages\\urllib3\\connectionpool.py:1004: InsecureRequestWarning: Unverified HTTPS request is being made to host 'github.com'. Adding certificate verification is strongly advised. See: https://urllib3.readthedocs.io/en/latest/advanced-usage.html#ssl-warnings\n",
      "  InsecureRequestWarning,\n"
     ]
    },
    {
     "name": "stdout",
     "output_type": "stream",
     "text": [
      "<title>Sign in to GitHub · GitHub</title>\n"
     ]
    }
   ],
   "source": [
    "res = requests.get('https://github.com/new', verify = False)\n",
    "soup = BeautifulSoup(res.text, 'html.parser')\n",
    "print(soup.title)"
   ]
  },
  {
   "cell_type": "code",
   "execution_count": 5,
   "metadata": {},
   "outputs": [
    {
     "data": {
      "text/plain": [
       "<title>Sign in to GitHub · GitHub</title>"
      ]
     },
     "execution_count": 5,
     "metadata": {},
     "output_type": "execute_result"
    }
   ],
   "source": [
    "import requests\n",
    "from bs4 import BeautifulSoup\n",
    "\n",
    "cookies = {\n",
    "    'logged_in': 'yes',\n",
    "    'user_session': '...'\n",
    "}\n",
    "\n",
    "headers = {\n",
    "    'Accept': 'text/html,application/xhtml+xml,application/xml;q=0.9,image/webp,image/apng,*/*;q=0.8,application/signed-exchange;v=b3;q=0.9',\n",
    "#     'Accept-Encoding': 'gzip, deflate, br',\n",
    "#     'Accept-Language': 'zh-TW,zh;q=0.9,en-US;q=0.8,en;q=0.7,zh-CN;q=0.6,ja;q=0.5',\n",
    "#     'Cache-Control': 'no-cache',\n",
    "#     'Connection': 'keep-alive',\n",
    "#     'Cookie': '_ga=GA1.2.1233942076.1576340475; _pk_ref.2.f745=%5B%22%22%2C%22%22%2C1576379330%2C%22https%3A%2F%2Fwww.aicoin.cn%2F%22%5D; _pk_id.2.f745=709ad3e0330dc9b4.1576379330.1.1576379332.1576379330.; XSRF-TOKEN=eyJpdiI6InRCSFRFcFkxYkFWdzB1WEliSWtBblE9PSIsInZhbHVlIjoiaVJWeCtRd1JoeURZTndsR1NVeXZmaVFxQXJJVXpWemlObUNGS3JWUXZjNVZTSnBiOUVVSWVKaHU2UFBvTFBBQWdDbEw4dkVkbkRYYXVWS0Q2MGRPclE9PSIsIm1hYyI6ImQyMjNmMGFmMmEyNWRmNGQ4NTUwZDNkN2M2N2QxZGM3NDZjNWJjZjU3Yjg0M2Y0MjY4MDYzNTkwMzQwZDI2YTYifQ%3D%3D; HWWAFSESID=5f4d37c96f7df9017b; HWWAFSESTIME=1577931474091; _pk_testcookie..undefined=1; Hm_lvt_3c606e4c5bc6e9ff490f59ae4106beb4=1576340476,1576340666,1576383300,1577931477; _pk_ref.2.57ea=%5B%22%22%2C%22%22%2C1578043102%2C%22http%3A%2F%2Flocalhost%3A8888%2Fnotebooks%2Fsample-code%2F191214-note-%E5%B7%A5%E7%A0%94%E9%99%A2%E5%8F%B0%E4%B8%AD%2F191215-note.ipynb%22%5D; _pk_id.2.57ea=181926df76021618.1576340476.5.1578043102.1578043100.; _pk_ses.2.57ea=1; Hm_lpvt_3c606e4c5bc6e9ff490f59ae4106beb4=1578043102; _gid=GA1.2.145782933.1578043102; aicoin_session=eyJpdiI6IlpRSXRMbXhiSmMySVpVa3BwTlwvS1FBPT0iLCJ2YWx1ZSI6Im1DaG1nV1I5TWRzTnN6cGMxYXVWdVMxSDBmRkdYYTc2QUt6TlV2TjlRRUZHeThuaTVBWXhvbWVFdjQ3NXNDRGJBT295RE9ONjBESmpHT0pXOThlMm1RPT0iLCJtYWMiOiI1ZGE0ZDYzMGVhMjg3ZmM0MzY0YzE1MWU2YzVlNDY4OTBjNTU4YWVmZDFkOTNlM2E1ZWY5ODg5ZjQ3M2NiNmY0In0%3D',\n",
    "#     'Host': 'www.aicoin.cn',\n",
    "#     'Pragma': 'no-cache',\n",
    "#     'Sec-Fetch-Mode': 'navigate',\n",
    "#     'Sec-Fetch-Site': 'same-origin',\n",
    "#     'Sec-Fetch-User': '?1',\n",
    "#     'Upgrade-Insecure-Requests': '1',\n",
    "    'User-Agent': 'Mozilla/5.0 (Macintosh; Intel Mac OS X 10_13_6) AppleWebKit/537.36 (KHTML, like Gecko) Chrome/79.0.3945.88 Safari/537.36'\n",
    "}\n",
    "\n",
    "r = requests.get('https://github.com/new', cookies=cookies)\n",
    "r.encoding = 'utf-8'\n",
    "soup = BeautifulSoup(r.text, 'lxml')\n",
    "soup.title # 加上檢查的 cookies ，就可以正確取得資料"
   ]
  }
 ],
 "metadata": {
  "kernelspec": {
   "display_name": "Python 3",
   "language": "python",
   "name": "python3"
  },
  "language_info": {
   "codemirror_mode": {
    "name": "ipython",
    "version": 3
   },
   "file_extension": ".py",
   "mimetype": "text/x-python",
   "name": "python",
   "nbconvert_exporter": "python",
   "pygments_lexer": "ipython3",
   "version": "3.7.6"
  }
 },
 "nbformat": 4,
 "nbformat_minor": 2
}
